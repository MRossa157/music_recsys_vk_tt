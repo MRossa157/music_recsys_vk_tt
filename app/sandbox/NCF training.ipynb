{
 "cells": [
  {
   "cell_type": "code",
   "execution_count": null,
   "metadata": {},
   "outputs": [],
   "source": [
    "import pandas as pd\n",
    "from pandas import DataFrame\n",
    "import numpy as np\n",
    "from tqdm import tqdm\n",
    "\n",
    "import torch\n",
    "import torch.nn as nn\n",
    "from torch.utils.data import Dataset, DataLoader\n",
    "import pytorch_lightning as pl\n",
    "from sklearn.metrics import ndcg_score"
   ]
  },
  {
   "cell_type": "code",
   "execution_count": null,
   "metadata": {},
   "outputs": [],
   "source": [
    "import sys\n",
    "sys.path.append('../src')\n",
    "\n",
    "import config as cfg"
   ]
  },
  {
   "cell_type": "code",
   "execution_count": null,
   "metadata": {},
   "outputs": [],
   "source": [
    "# %%time\n",
    "\n",
    "df_train = pd.read_csv(f'{cfg.DATASET_PATH}\\\\train.csv')\n",
    "df_test = pd.read_csv(f'{cfg.DATASET_PATH}\\\\test.csv')\n",
    "\n",
    "df_songs = pd.read_csv(f'{cfg.DATASET_PATH}\\\\songs.csv')\n",
    "df_members = pd.read_csv(f'{cfg.DATASET_PATH}\\\\members.csv')"
   ]
  },
  {
   "cell_type": "code",
   "execution_count": null,
   "metadata": {},
   "outputs": [],
   "source": [
    "rand_userIds = np.random.choice(df_train['msno'].unique(),\n",
    "                                size=int(len(df_train['msno'].unique())*0.3),\n",
    "                                replace=False)\n",
    "\n",
    "df = df_train.loc[df_train['msno'].isin(rand_userIds)]\n",
    "\n",
    "print('There are {} rows of data from {} users'.format(len(df), len(rand_userIds)))"
   ]
  },
  {
   "cell_type": "code",
   "execution_count": null,
   "metadata": {},
   "outputs": [],
   "source": [
    "df.sample(5)"
   ]
  },
  {
   "cell_type": "code",
   "execution_count": null,
   "metadata": {},
   "outputs": [],
   "source": [
    "ALL_USERS = df_members['msno'].unique().tolist()\n",
    "ALL_ITEMS = df_songs['song_id'].unique().tolist()\n",
    "\n",
    "user_ids = dict(list(enumerate(ALL_USERS)))\n",
    "item_ids = dict(list(enumerate(ALL_ITEMS)))\n",
    "\n",
    "user_map = {u: uidx for uidx, u in user_ids.items()}\n",
    "item_map = {i: iidx for iidx, i in item_ids.items()}\n",
    "\n",
    "df['user_id'] = df['msno'].map(user_map)\n",
    "df['item_id'] = df['song_id'].map(item_map)\n",
    "\n",
    "df.dropna(subset=['item_id'], inplace=True)\n",
    "df['item_id'] = df['item_id'].astype(int)"
   ]
  },
  {
   "cell_type": "code",
   "execution_count": null,
   "metadata": {},
   "outputs": [],
   "source": [
    "df = df[['user_id', 'item_id', 'target']]"
   ]
  },
  {
   "cell_type": "code",
   "execution_count": null,
   "metadata": {},
   "outputs": [],
   "source": [
    "class MusicTrainDataset(Dataset):\n",
    "    \"\"\"MusicTrainDataset PyTorch Dataset for Training\n",
    "\n",
    "    Args:\n",
    "        ratings (pd.DataFrame): Dataframe which contains the 'user_id', 'item_id', 'target' columns\n",
    "\n",
    "    \"\"\"\n",
    "\n",
    "    def __init__(self, ratings):\n",
    "        self.users, self.items, self.labels = self.get_dataset(ratings)\n",
    "\n",
    "    def __len__(self):\n",
    "        return len(self.users)\n",
    "\n",
    "    def __getitem__(self, idx):\n",
    "        return self.users[idx], self.items[idx], self.labels[idx]\n",
    "\n",
    "    def get_dataset(self, ratings):\n",
    "        users, items, labels = [], [], []\n",
    "        user_item_set = set(zip(ratings['user_id'], ratings['item_id']))\n",
    "\n",
    "        for u, i in user_item_set:\n",
    "            users.append(u)\n",
    "            items.append(i)\n",
    "            labels.append(1)\n",
    "\n",
    "        return torch.tensor(users), torch.tensor(items), torch.tensor(labels)"
   ]
  },
  {
   "cell_type": "code",
   "execution_count": null,
   "metadata": {},
   "outputs": [],
   "source": [
    "class NCF(pl.LightningModule):\n",
    "    \"\"\" Neural Collaborative Filtering (NCF)\n",
    "\n",
    "        Args:\n",
    "            num_users (int): Number of unique users\n",
    "            num_items (int): Number of unique items\n",
    "            ratings (pd.DataFrame): Dataframe containing the ratings for training\n",
    "    \"\"\"\n",
    "\n",
    "    def __init__(self, num_users, num_items, ratings: DataFrame):\n",
    "        super().__init__()\n",
    "        self.user_embedding = nn.Embedding(num_embeddings=num_users, embedding_dim=8)\n",
    "        self.item_embedding = nn.Embedding(num_embeddings=num_items, embedding_dim=8)\n",
    "        self.fc1 = nn.Linear(in_features=16, out_features=64)\n",
    "        self.fc2 = nn.Linear(in_features=64, out_features=32)\n",
    "        self.output = nn.Linear(in_features=32, out_features=1)\n",
    "        self.ratings = ratings\n",
    "\n",
    "    def forward(self, user_input, item_input):\n",
    "\n",
    "        # Pass through embedding layers\n",
    "        user_embedded = self.user_embedding(user_input)\n",
    "        item_embedded = self.item_embedding(item_input)\n",
    "\n",
    "        # Concat the two embedding layers\n",
    "        vector = torch.cat([user_embedded, item_embedded], dim=-1)\n",
    "\n",
    "        # Pass through dense layer\n",
    "        vector = nn.ReLU()(self.fc1(vector))\n",
    "        vector = nn.ReLU()(self.fc2(vector))\n",
    "\n",
    "        # Output layer\n",
    "        pred = nn.Sigmoid()(self.output(vector))\n",
    "\n",
    "        return pred\n",
    "\n",
    "    def training_step(self, batch, batch_idx):\n",
    "        user_input, item_input, labels = batch\n",
    "        predicted_labels = self(user_input, item_input)\n",
    "        loss = nn.BCELoss()(predicted_labels, labels.view(-1, 1).float())\n",
    "        return loss\n",
    "\n",
    "    def configure_optimizers(self):\n",
    "        return torch.optim.Adam(self.parameters())\n",
    "\n",
    "    def train_dataloader(self):\n",
    "        return DataLoader(MusicTrainDataset(self.ratings),\n",
    "                          batch_size=512, num_workers=0)\n",
    "        # Если вы запускаете код на Google colab то можете выставить num_workers=5 (НЕ ПРОВЕРЕННО). В данный момент стоит 0, т.к:\n",
    "        # jupyter notebook might not work properly with multiprocessing as documented (https://stackoverflow.com/a/71193241/16733101)"
   ]
  },
  {
   "cell_type": "code",
   "execution_count": null,
   "metadata": {},
   "outputs": [],
   "source": [
    "num_users = len(ALL_USERS)\n",
    "num_items = len(ALL_ITEMS)\n",
    "\n",
    "model = NCF(num_users, num_items, df)"
   ]
  },
  {
   "cell_type": "code",
   "execution_count": null,
   "metadata": {},
   "outputs": [],
   "source": [
    "trainer = pl.Trainer(max_epochs=5, logger=False)\n",
    "\n",
    "trainer.fit(model)"
   ]
  },
  {
   "cell_type": "markdown",
   "metadata": {},
   "source": [
    "---DEBUG ZONE---"
   ]
  },
  {
   "cell_type": "code",
   "execution_count": null,
   "metadata": {},
   "outputs": [],
   "source": [
    "trainer.save_checkpoint()"
   ]
  },
  {
   "cell_type": "code",
   "execution_count": null,
   "metadata": {},
   "outputs": [],
   "source": [
    "model = NCF.load_from_checkpoint(r\"checkpoints/epoch=4-step=21555.ckpt\", num_users=num_users, num_items=num_items, ratings=df)"
   ]
  },
  {
   "cell_type": "markdown",
   "metadata": {},
   "source": [
    "--- END OF DEBUG ---"
   ]
  },
  {
   "cell_type": "markdown",
   "metadata": {},
   "source": [
    "# Validation"
   ]
  },
  {
   "cell_type": "code",
   "execution_count": null,
   "metadata": {},
   "outputs": [],
   "source": [
    "# Т.к. в df_test нет target, то мы не можем оценить нашу рекоменадетльную систему на этом датафрейме. Поэтому я возьму еще 30% от df_train и они будут в качестве валидации\n",
    "\n",
    "rand_userIds = np.random.choice(df_train['msno'].unique(),\n",
    "                                size=int(len(df_train['msno'].unique())*0.3),\n",
    "                                replace=False)\n",
    "\n",
    "val_data = df_train.loc[df_train['msno'].isin(rand_userIds)]"
   ]
  },
  {
   "cell_type": "code",
   "execution_count": null,
   "metadata": {},
   "outputs": [],
   "source": [
    "val_data['user_id'] = val_data['msno'].map(user_map)\n",
    "val_data['item_id'] = val_data['song_id'].map(item_map)\n",
    "val_data.dropna(subset=['item_id'], inplace=True)\n",
    "val_data['item_id'] = val_data['item_id'].astype(int)"
   ]
  },
  {
   "cell_type": "code",
   "execution_count": null,
   "metadata": {},
   "outputs": [],
   "source": [
    "val_user_item_pairs = torch.tensor(list(zip(val_data['user_id'], val_data['item_id'])))\n",
    "user_inputs = val_user_item_pairs[:, 0]\n",
    "item_inputs = val_user_item_pairs[:, 1]\n"
   ]
  },
  {
   "cell_type": "code",
   "execution_count": null,
   "metadata": {},
   "outputs": [],
   "source": [
    "model.eval()\n",
    "with torch.no_grad():\n",
    "    predictions = model(user_inputs, item_inputs).flatten()"
   ]
  },
  {
   "cell_type": "code",
   "execution_count": null,
   "metadata": {},
   "outputs": [],
   "source": [
    "user_inputs[:20]"
   ]
  },
  {
   "cell_type": "code",
   "execution_count": null,
   "metadata": {},
   "outputs": [],
   "source": [
    "item_inputs[:20]"
   ]
  },
  {
   "cell_type": "code",
   "execution_count": null,
   "metadata": {},
   "outputs": [],
   "source": [
    "predictions[:20]"
   ]
  },
  {
   "cell_type": "code",
   "execution_count": null,
   "metadata": {},
   "outputs": [],
   "source": [
    "average_ndcg_scores = []\n",
    "\n",
    "for user_id in tqdm(df_train['user_id'].unique()):\n",
    "    user_df = df_train[df_train['user_id'] == user_id]\n",
    "\n",
    "    user_items = user_df['item_id'].tolist()\n",
    "    true_relevance = user_df['target'].tolist()\n",
    "    if len(true_relevance) > 1:\n",
    "        # Оценки на основе позиций в ТОП20\n",
    "        scores = np.zeros(len(user_items))\n",
    "        for i, item in enumerate(user_items):\n",
    "            scores[i] = top20_indices.get(item, 0)\n",
    "\n",
    "        if np.sum(scores) > 0:  # Проверяем, есть ли среди оценок ненулевые значения\n",
    "            ndcg_value = ndcg_score([true_relevance], [scores], k=20)\n",
    "            average_ndcg_scores.append(ndcg_value)\n",
    "\n",
    "average_ndcg = np.mean(average_ndcg_scores) if average_ndcg_scores else 0\n",
    "print('Средний NDCG@20:', average_ndcg)"
   ]
  },
  {
   "cell_type": "code",
   "execution_count": null,
   "metadata": {},
   "outputs": [],
   "source": [
    "# y_true = []\n",
    "# y_score = []\n",
    "\n",
    "# for user_id in tqdm(sorted(val_data['user_id'].unique())):\n",
    "#     user_items = val_data[val_data['user_id'] == user_id]\n",
    "#     true_relevance = user_items['target'].tolist()\n",
    "#     predicted_scores = [predictions[i] for i in range(len(user_items))]\n",
    "\n",
    "#     y_true.append(true_relevance)\n",
    "#     y_score.append(predicted_scores)\n",
    "\n",
    "# y_score = [[int((t >= 0.5).item()) for t in sublist] for sublist in y_score]\n",
    "# # Вычисление оценки NDCG\n",
    "# ndcg = ndcg_score(y_true, y_score, k=20)\n",
    "# print('Оценка NDCG:', ndcg)"
   ]
  }
 ],
 "metadata": {
  "kernelspec": {
   "display_name": ".venv",
   "language": "python",
   "name": "python3"
  },
  "language_info": {
   "codemirror_mode": {
    "name": "ipython",
    "version": 3
   },
   "file_extension": ".py",
   "mimetype": "text/x-python",
   "name": "python",
   "nbconvert_exporter": "python",
   "pygments_lexer": "ipython3",
   "version": "3.12.2"
  }
 },
 "nbformat": 4,
 "nbformat_minor": 2
}
