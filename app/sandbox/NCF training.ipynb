{
 "cells": [
  {
   "cell_type": "code",
   "execution_count": 1,
   "metadata": {},
   "outputs": [],
   "source": [
    "import pandas as pd\n",
    "from pandas import DataFrame\n",
    "import numpy as np\n",
    "from tqdm import tqdm\n",
    "\n",
    "import torch\n",
    "import torch.nn as nn\n",
    "from torch.utils.data import Dataset, DataLoader\n",
    "import pytorch_lightning as pl\n",
    "from sklearn.metrics import ndcg_score"
   ]
  },
  {
   "cell_type": "code",
   "execution_count": 2,
   "metadata": {},
   "outputs": [],
   "source": [
    "import sys\n",
    "sys.path.append('../src')\n",
    "\n",
    "import config as cfg"
   ]
  },
  {
   "cell_type": "code",
   "execution_count": 3,
   "metadata": {},
   "outputs": [],
   "source": [
    "# %%time\n",
    "\n",
    "df_train = pd.read_csv(f'{cfg.DATASET_PATH}\\\\train.csv')\n",
    "df_test = pd.read_csv(f'{cfg.DATASET_PATH}\\\\test.csv')\n",
    "\n",
    "df_songs = pd.read_csv(f'{cfg.DATASET_PATH}\\\\songs.csv')\n",
    "df_members = pd.read_csv(f'{cfg.DATASET_PATH}\\\\members.csv')"
   ]
  },
  {
   "cell_type": "code",
   "execution_count": 4,
   "metadata": {},
   "outputs": [
    {
     "name": "stdout",
     "output_type": "stream",
     "text": [
      "There are 2280464 rows of data from 9226 users\n"
     ]
    }
   ],
   "source": [
    "rand_userIds = np.random.choice(df_train['msno'].unique(),\n",
    "                                size=int(len(df_train['msno'].unique())*0.3),\n",
    "                                replace=False)\n",
    "\n",
    "df = df_train.loc[df_train['msno'].isin(rand_userIds)]\n",
    "\n",
    "print('There are {} rows of data from {} users'.format(len(df), len(rand_userIds)))"
   ]
  },
  {
   "cell_type": "code",
   "execution_count": 5,
   "metadata": {},
   "outputs": [
    {
     "data": {
      "text/html": [
       "<div>\n",
       "<style scoped>\n",
       "    .dataframe tbody tr th:only-of-type {\n",
       "        vertical-align: middle;\n",
       "    }\n",
       "\n",
       "    .dataframe tbody tr th {\n",
       "        vertical-align: top;\n",
       "    }\n",
       "\n",
       "    .dataframe thead th {\n",
       "        text-align: right;\n",
       "    }\n",
       "</style>\n",
       "<table border=\"1\" class=\"dataframe\">\n",
       "  <thead>\n",
       "    <tr style=\"text-align: right;\">\n",
       "      <th></th>\n",
       "      <th>msno</th>\n",
       "      <th>song_id</th>\n",
       "      <th>source_system_tab</th>\n",
       "      <th>source_screen_name</th>\n",
       "      <th>source_type</th>\n",
       "      <th>target</th>\n",
       "    </tr>\n",
       "  </thead>\n",
       "  <tbody>\n",
       "    <tr>\n",
       "      <th>2173217</th>\n",
       "      <td>07+a5Wl5ujG0rOjTrZ1nsd3VxpLuAsgEwN/pyXHwvRc=</td>\n",
       "      <td>MNX4VRUyD8fchsTo9zmvhlDR2Fnmuu+YpD9zY3v9VYE=</td>\n",
       "      <td>radio</td>\n",
       "      <td>Radio</td>\n",
       "      <td>radio</td>\n",
       "      <td>0</td>\n",
       "    </tr>\n",
       "    <tr>\n",
       "      <th>2574452</th>\n",
       "      <td>k4hXX5Ry0IOXwrxkf0umgrJeyPG5uT5XyVKJ5Vf9oPs=</td>\n",
       "      <td>FnAI7SkF8cquJEJw8wx6m/BGn56+OEXLdtZHf9Hl1vQ=</td>\n",
       "      <td>my library</td>\n",
       "      <td>Local playlist more</td>\n",
       "      <td>local-playlist</td>\n",
       "      <td>0</td>\n",
       "    </tr>\n",
       "    <tr>\n",
       "      <th>4103469</th>\n",
       "      <td>lyyEz2p7AEEvU4a1xdlk7P8foomLKPRvaZBX0Mt7iu0=</td>\n",
       "      <td>uZF+pQaLTyHBXuPU71bhv2TrcZNivkCC7KEhNAqRQRg=</td>\n",
       "      <td>my library</td>\n",
       "      <td>Album more</td>\n",
       "      <td>album</td>\n",
       "      <td>0</td>\n",
       "    </tr>\n",
       "    <tr>\n",
       "      <th>3962489</th>\n",
       "      <td>uszq2ylKoWwlEZTGgMxfZkbElMaf4L0FYCoDMiS2Goc=</td>\n",
       "      <td>Umpx3/OIYe/mrDn2ZFSoEkz4ckfhAJsmu3tw5p1ZPLs=</td>\n",
       "      <td>my library</td>\n",
       "      <td>Local playlist more</td>\n",
       "      <td>local-library</td>\n",
       "      <td>1</td>\n",
       "    </tr>\n",
       "    <tr>\n",
       "      <th>3630366</th>\n",
       "      <td>tgZ23S9kfDbKRvRHCNOWozw1BAlDi7EIgvDVx91ZZb8=</td>\n",
       "      <td>3VkD5ekIf5duJm1hmYTZlXjyl0zqV8wCzuAh3uocfCg=</td>\n",
       "      <td>discover</td>\n",
       "      <td>Online playlist more</td>\n",
       "      <td>online-playlist</td>\n",
       "      <td>1</td>\n",
       "    </tr>\n",
       "  </tbody>\n",
       "</table>\n",
       "</div>"
      ],
      "text/plain": [
       "                                                 msno  \\\n",
       "2173217  07+a5Wl5ujG0rOjTrZ1nsd3VxpLuAsgEwN/pyXHwvRc=   \n",
       "2574452  k4hXX5Ry0IOXwrxkf0umgrJeyPG5uT5XyVKJ5Vf9oPs=   \n",
       "4103469  lyyEz2p7AEEvU4a1xdlk7P8foomLKPRvaZBX0Mt7iu0=   \n",
       "3962489  uszq2ylKoWwlEZTGgMxfZkbElMaf4L0FYCoDMiS2Goc=   \n",
       "3630366  tgZ23S9kfDbKRvRHCNOWozw1BAlDi7EIgvDVx91ZZb8=   \n",
       "\n",
       "                                              song_id source_system_tab  \\\n",
       "2173217  MNX4VRUyD8fchsTo9zmvhlDR2Fnmuu+YpD9zY3v9VYE=             radio   \n",
       "2574452  FnAI7SkF8cquJEJw8wx6m/BGn56+OEXLdtZHf9Hl1vQ=        my library   \n",
       "4103469  uZF+pQaLTyHBXuPU71bhv2TrcZNivkCC7KEhNAqRQRg=        my library   \n",
       "3962489  Umpx3/OIYe/mrDn2ZFSoEkz4ckfhAJsmu3tw5p1ZPLs=        my library   \n",
       "3630366  3VkD5ekIf5duJm1hmYTZlXjyl0zqV8wCzuAh3uocfCg=          discover   \n",
       "\n",
       "           source_screen_name      source_type  target  \n",
       "2173217                 Radio            radio       0  \n",
       "2574452   Local playlist more   local-playlist       0  \n",
       "4103469            Album more            album       0  \n",
       "3962489   Local playlist more    local-library       1  \n",
       "3630366  Online playlist more  online-playlist       1  "
      ]
     },
     "execution_count": 5,
     "metadata": {},
     "output_type": "execute_result"
    }
   ],
   "source": [
    "df.sample(5)"
   ]
  },
  {
   "cell_type": "code",
   "execution_count": 6,
   "metadata": {},
   "outputs": [
    {
     "name": "stderr",
     "output_type": "stream",
     "text": [
      "C:\\Users\\maxim\\AppData\\Local\\Temp\\ipykernel_8616\\1417063636.py:10: SettingWithCopyWarning: \n",
      "A value is trying to be set on a copy of a slice from a DataFrame.\n",
      "Try using .loc[row_indexer,col_indexer] = value instead\n",
      "\n",
      "See the caveats in the documentation: https://pandas.pydata.org/pandas-docs/stable/user_guide/indexing.html#returning-a-view-versus-a-copy\n",
      "  df['user_id'] = df['msno'].map(user_map)\n",
      "C:\\Users\\maxim\\AppData\\Local\\Temp\\ipykernel_8616\\1417063636.py:11: SettingWithCopyWarning: \n",
      "A value is trying to be set on a copy of a slice from a DataFrame.\n",
      "Try using .loc[row_indexer,col_indexer] = value instead\n",
      "\n",
      "See the caveats in the documentation: https://pandas.pydata.org/pandas-docs/stable/user_guide/indexing.html#returning-a-view-versus-a-copy\n",
      "  df['item_id'] = df['song_id'].map(item_map)\n",
      "C:\\Users\\maxim\\AppData\\Local\\Temp\\ipykernel_8616\\1417063636.py:13: SettingWithCopyWarning: \n",
      "A value is trying to be set on a copy of a slice from a DataFrame\n",
      "\n",
      "See the caveats in the documentation: https://pandas.pydata.org/pandas-docs/stable/user_guide/indexing.html#returning-a-view-versus-a-copy\n",
      "  df.dropna(subset=['item_id'], inplace=True)\n",
      "C:\\Users\\maxim\\AppData\\Local\\Temp\\ipykernel_8616\\1417063636.py:14: SettingWithCopyWarning: \n",
      "A value is trying to be set on a copy of a slice from a DataFrame.\n",
      "Try using .loc[row_indexer,col_indexer] = value instead\n",
      "\n",
      "See the caveats in the documentation: https://pandas.pydata.org/pandas-docs/stable/user_guide/indexing.html#returning-a-view-versus-a-copy\n",
      "  df['item_id'] = df['item_id'].astype(int)\n"
     ]
    }
   ],
   "source": [
    "ALL_USERS = df_members['msno'].unique().tolist()\n",
    "ALL_ITEMS = df_songs['song_id'].unique().tolist()\n",
    "\n",
    "user_ids = dict(list(enumerate(ALL_USERS)))\n",
    "item_ids = dict(list(enumerate(ALL_ITEMS)))\n",
    "\n",
    "user_map = {u: uidx for uidx, u in user_ids.items()}\n",
    "item_map = {i: iidx for iidx, i in item_ids.items()}\n",
    "\n",
    "df['user_id'] = df['msno'].map(user_map)\n",
    "df['item_id'] = df['song_id'].map(item_map)\n",
    "\n",
    "df.dropna(subset=['item_id'], inplace=True)\n",
    "df['item_id'] = df['item_id'].astype(int)"
   ]
  },
  {
   "cell_type": "code",
   "execution_count": 7,
   "metadata": {},
   "outputs": [],
   "source": [
    "df = df[['user_id', 'item_id', 'target']]"
   ]
  },
  {
   "cell_type": "code",
   "execution_count": 8,
   "metadata": {},
   "outputs": [],
   "source": [
    "class MusicTrainDataset(Dataset):\n",
    "    \"\"\"MusicTrainDataset PyTorch Dataset for Training\n",
    "\n",
    "    Args:\n",
    "        ratings (pd.DataFrame): Dataframe which contains the 'user_id', 'item_id', 'target' columns\n",
    "\n",
    "    \"\"\"\n",
    "\n",
    "    def __init__(self, ratings):\n",
    "        self.users, self.items, self.labels = self.get_dataset(ratings)\n",
    "\n",
    "    def __len__(self):\n",
    "        return len(self.users)\n",
    "\n",
    "    def __getitem__(self, idx):\n",
    "        return self.users[idx], self.items[idx], self.labels[idx]\n",
    "\n",
    "    def get_dataset(self, ratings):\n",
    "        users, items, labels = [], [], []\n",
    "        user_item_set = set(zip(ratings['user_id'], ratings['item_id']))\n",
    "\n",
    "        for u, i in user_item_set:\n",
    "            users.append(u)\n",
    "            items.append(i)\n",
    "            labels.append(1)\n",
    "\n",
    "        return torch.tensor(users), torch.tensor(items), torch.tensor(labels)"
   ]
  },
  {
   "cell_type": "code",
   "execution_count": 9,
   "metadata": {},
   "outputs": [],
   "source": [
    "class NCF(pl.LightningModule):\n",
    "    \"\"\" Neural Collaborative Filtering (NCF)\n",
    "\n",
    "        Args:\n",
    "            num_users (int): Number of unique users\n",
    "            num_items (int): Number of unique items\n",
    "            ratings (pd.DataFrame): Dataframe containing the ratings for training\n",
    "    \"\"\"\n",
    "\n",
    "    def __init__(self, num_users, num_items, ratings: DataFrame):\n",
    "        super().__init__()\n",
    "        self.user_embedding = nn.Embedding(num_embeddings=num_users, embedding_dim=8)\n",
    "        self.item_embedding = nn.Embedding(num_embeddings=num_items, embedding_dim=8)\n",
    "        self.fc1 = nn.Linear(in_features=16, out_features=64)\n",
    "        self.fc2 = nn.Linear(in_features=64, out_features=32)\n",
    "        self.output = nn.Linear(in_features=32, out_features=1)\n",
    "        self.ratings = ratings\n",
    "\n",
    "    def forward(self, user_input, item_input):\n",
    "\n",
    "        # Pass through embedding layers\n",
    "        user_embedded = self.user_embedding(user_input)\n",
    "        item_embedded = self.item_embedding(item_input)\n",
    "\n",
    "        # Concat the two embedding layers\n",
    "        vector = torch.cat([user_embedded, item_embedded], dim=-1)\n",
    "\n",
    "        # Pass through dense layer\n",
    "        vector = nn.ReLU()(self.fc1(vector))\n",
    "        vector = nn.ReLU()(self.fc2(vector))\n",
    "\n",
    "        # Output layer\n",
    "        pred = nn.Sigmoid()(self.output(vector))\n",
    "\n",
    "        return pred\n",
    "\n",
    "    def training_step(self, batch, batch_idx):\n",
    "        user_input, item_input, labels = batch\n",
    "        predicted_labels = self(user_input, item_input)\n",
    "        loss = nn.BCELoss()(predicted_labels, labels.view(-1, 1).float())\n",
    "        return loss\n",
    "\n",
    "    def configure_optimizers(self):\n",
    "        return torch.optim.Adam(self.parameters())\n",
    "\n",
    "    def train_dataloader(self):\n",
    "        return DataLoader(MusicTrainDataset(self.ratings),\n",
    "                          batch_size=512, num_workers=0)\n",
    "        # Если вы запускаете код на Google colab то можете выставить num_workers=5 (НЕ ПРОВЕРЕННО). В данный момент стоит 0, т.к:\n",
    "        # jupyter notebook might not work properly with multiprocessing as documented (https://stackoverflow.com/a/71193241/16733101)"
   ]
  },
  {
   "cell_type": "code",
   "execution_count": 10,
   "metadata": {},
   "outputs": [],
   "source": [
    "num_users = len(ALL_USERS)\n",
    "num_items = len(ALL_ITEMS)\n",
    "\n",
    "model = NCF(num_users, num_items, df)"
   ]
  },
  {
   "cell_type": "code",
   "execution_count": null,
   "metadata": {},
   "outputs": [],
   "source": [
    "trainer = pl.Trainer(max_epochs=5, logger=False)\n",
    "\n",
    "trainer.fit(model)"
   ]
  },
  {
   "cell_type": "markdown",
   "metadata": {},
   "source": [
    "---DEBUG ZONE---"
   ]
  },
  {
   "cell_type": "code",
   "execution_count": null,
   "metadata": {},
   "outputs": [],
   "source": [
    "trainer.save_checkpoint()"
   ]
  },
  {
   "cell_type": "code",
   "execution_count": 11,
   "metadata": {},
   "outputs": [],
   "source": [
    "model = NCF.load_from_checkpoint(r\"checkpoints/epoch=4-step=21555.ckpt\", num_users=num_users, num_items=num_items, ratings=df)"
   ]
  },
  {
   "cell_type": "markdown",
   "metadata": {},
   "source": [
    "--- END OF DEBUG ---"
   ]
  },
  {
   "cell_type": "markdown",
   "metadata": {},
   "source": [
    "# Validation"
   ]
  },
  {
   "cell_type": "code",
   "execution_count": 12,
   "metadata": {},
   "outputs": [],
   "source": [
    "# Т.к. в df_test нет target, то мы не можем оценить нашу рекоменадетльную систему на этом датафрейме. Поэтому я возьму еще 30% от df_train и они будут в качестве валидации\n",
    "\n",
    "rand_userIds = np.random.choice(df_train['msno'].unique(),\n",
    "                                size=int(len(df_train['msno'].unique())*0.3),\n",
    "                                replace=False)\n",
    "\n",
    "val_data = df_train.loc[df_train['msno'].isin(rand_userIds)]"
   ]
  },
  {
   "cell_type": "code",
   "execution_count": 13,
   "metadata": {},
   "outputs": [
    {
     "name": "stderr",
     "output_type": "stream",
     "text": [
      "C:\\Users\\maxim\\AppData\\Local\\Temp\\ipykernel_8616\\2059588357.py:1: SettingWithCopyWarning: \n",
      "A value is trying to be set on a copy of a slice from a DataFrame.\n",
      "Try using .loc[row_indexer,col_indexer] = value instead\n",
      "\n",
      "See the caveats in the documentation: https://pandas.pydata.org/pandas-docs/stable/user_guide/indexing.html#returning-a-view-versus-a-copy\n",
      "  val_data['user_id'] = val_data['msno'].map(user_map)\n",
      "C:\\Users\\maxim\\AppData\\Local\\Temp\\ipykernel_8616\\2059588357.py:2: SettingWithCopyWarning: \n",
      "A value is trying to be set on a copy of a slice from a DataFrame.\n",
      "Try using .loc[row_indexer,col_indexer] = value instead\n",
      "\n",
      "See the caveats in the documentation: https://pandas.pydata.org/pandas-docs/stable/user_guide/indexing.html#returning-a-view-versus-a-copy\n",
      "  val_data['item_id'] = val_data['song_id'].map(item_map)\n",
      "C:\\Users\\maxim\\AppData\\Local\\Temp\\ipykernel_8616\\2059588357.py:3: SettingWithCopyWarning: \n",
      "A value is trying to be set on a copy of a slice from a DataFrame\n",
      "\n",
      "See the caveats in the documentation: https://pandas.pydata.org/pandas-docs/stable/user_guide/indexing.html#returning-a-view-versus-a-copy\n",
      "  val_data.dropna(subset=['item_id'], inplace=True)\n",
      "C:\\Users\\maxim\\AppData\\Local\\Temp\\ipykernel_8616\\2059588357.py:4: SettingWithCopyWarning: \n",
      "A value is trying to be set on a copy of a slice from a DataFrame.\n",
      "Try using .loc[row_indexer,col_indexer] = value instead\n",
      "\n",
      "See the caveats in the documentation: https://pandas.pydata.org/pandas-docs/stable/user_guide/indexing.html#returning-a-view-versus-a-copy\n",
      "  val_data['item_id'] = val_data['item_id'].astype(int)\n"
     ]
    }
   ],
   "source": [
    "val_data['user_id'] = val_data['msno'].map(user_map)\n",
    "val_data['item_id'] = val_data['song_id'].map(item_map)\n",
    "val_data.dropna(subset=['item_id'], inplace=True)\n",
    "val_data['item_id'] = val_data['item_id'].astype(int)"
   ]
  },
  {
   "cell_type": "code",
   "execution_count": 18,
   "metadata": {},
   "outputs": [],
   "source": [
    "grouped = val_data.groupby('user_id')[['item_id', 'target']].apply(\n",
    "    lambda x: x.values.tolist()).to_dict()"
   ]
  },
  {
   "cell_type": "code",
   "execution_count": 26,
   "metadata": {},
   "outputs": [
    {
     "data": {
      "text/plain": [
       "NCF(\n",
       "  (user_embedding): Embedding(34403, 8)\n",
       "  (item_embedding): Embedding(2296320, 8)\n",
       "  (fc1): Linear(in_features=16, out_features=64, bias=True)\n",
       "  (fc2): Linear(in_features=64, out_features=32, bias=True)\n",
       "  (output): Linear(in_features=32, out_features=1, bias=True)\n",
       ")"
      ]
     },
     "execution_count": 26,
     "metadata": {},
     "output_type": "execute_result"
    }
   ],
   "source": [
    "model.eval()"
   ]
  },
  {
   "cell_type": "code",
   "execution_count": 28,
   "metadata": {},
   "outputs": [
    {
     "name": "stderr",
     "output_type": "stream",
     "text": [
      "100%|██████████| 9226/9226 [00:07<00:00, 1209.33it/s]"
     ]
    },
    {
     "name": "stdout",
     "output_type": "stream",
     "text": [
      "Средний NDCG@20: 0.47137306496113224\n"
     ]
    },
    {
     "name": "stderr",
     "output_type": "stream",
     "text": [
      "\n"
     ]
    }
   ],
   "source": [
    "ndcg_scores = []\n",
    "\n",
    "for user_id, items_targets in tqdm(grouped.items()):\n",
    "    items, true_targets = zip(*items_targets)\n",
    "\n",
    "    # Прогнозы модели для данного пользователя\n",
    "    items_tensor = torch.tensor(items, dtype=torch.long)\n",
    "    user_tensor = torch.tensor([user_id] * len(items), dtype=torch.long)\n",
    "    with torch.no_grad():\n",
    "        predictions = model(user_tensor, items_tensor).flatten().numpy()\n",
    "\n",
    "    # Рассчитываем NDCG@20 для пользователя\n",
    "    if len(true_targets) > 1:  # NDCG не имеет смысла для одного элемента\n",
    "        ndcg_val = ndcg_score([true_targets], [predictions], k=20)\n",
    "        ndcg_scores.append(ndcg_val)\n",
    "\n",
    "average_ndcg = np.mean(ndcg_scores) if ndcg_scores else 0\n",
    "print('Средний NDCG@20:', average_ndcg)"
   ]
  }
 ],
 "metadata": {
  "kernelspec": {
   "display_name": ".venv",
   "language": "python",
   "name": "python3"
  },
  "language_info": {
   "codemirror_mode": {
    "name": "ipython",
    "version": 3
   },
   "file_extension": ".py",
   "mimetype": "text/x-python",
   "name": "python",
   "nbconvert_exporter": "python",
   "pygments_lexer": "ipython3",
   "version": "3.12.2"
  }
 },
 "nbformat": 4,
 "nbformat_minor": 2
}
