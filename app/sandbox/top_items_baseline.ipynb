{
 "cells": [
  {
   "cell_type": "code",
   "execution_count": null,
   "metadata": {},
   "outputs": [],
   "source": [
    "import pandas as pd\n",
    "from pandas import DataFrame\n",
    "import numpy as np\n",
    "from tqdm import tqdm\n",
    "\n",
    "from sklearn.metrics import ndcg_score"
   ]
  },
  {
   "cell_type": "code",
   "execution_count": null,
   "metadata": {},
   "outputs": [],
   "source": [
    "import sys\n",
    "sys.path.append('../src')\n",
    "\n",
    "import config as cfg"
   ]
  },
  {
   "cell_type": "code",
   "execution_count": null,
   "metadata": {},
   "outputs": [],
   "source": [
    "df_train = pd.read_csv(f'{cfg.DATASET_PATH}\\\\train.csv')\n",
    "#df_test = pd.read_csv(f'{cfg.DATASET_PATH}\\\\test.csv')\n",
    "\n",
    "df_songs = pd.read_csv(f'{cfg.DATASET_PATH}\\\\songs.csv')\n",
    "df_members = pd.read_csv(f'{cfg.DATASET_PATH}\\\\members.csv')"
   ]
  },
  {
   "cell_type": "code",
   "execution_count": null,
   "metadata": {},
   "outputs": [],
   "source": [
    "ALL_USERS = df_members['msno'].unique().tolist()\n",
    "ALL_ITEMS = df_songs['song_id'].unique().tolist()\n",
    "\n",
    "user_ids = dict(list(enumerate(ALL_USERS)))\n",
    "item_ids = dict(list(enumerate(ALL_ITEMS)))\n",
    "\n",
    "user_map = {u: uidx for uidx, u in user_ids.items()}\n",
    "item_map = {i: iidx for iidx, i in item_ids.items()}\n",
    "\n",
    "df_train['user_id'] = df_train['msno'].map(user_map)\n",
    "df_train['item_id'] = df_train['song_id'].map(item_map)"
   ]
  },
  {
   "cell_type": "code",
   "execution_count": null,
   "metadata": {},
   "outputs": [],
   "source": [
    "del df_members, df_songs"
   ]
  },
  {
   "cell_type": "code",
   "execution_count": null,
   "metadata": {},
   "outputs": [],
   "source": [
    "def calculate_top_musics(df: DataFrame, column_name: str = 'item_id') -> dict:\n",
    "    music_metric = df.groupby(column_name).size().sort_values(ascending=False)\n",
    "    music_top = music_metric.to_dict()\n",
    "    return music_top"
   ]
  },
  {
   "cell_type": "code",
   "execution_count": null,
   "metadata": {},
   "outputs": [],
   "source": [
    "top = calculate_top_musics(df_train)\n",
    "top20_songs =[idx for idx, _ in top.items()][:20]\n"
   ]
  },
  {
   "cell_type": "code",
   "execution_count": null,
   "metadata": {},
   "outputs": [],
   "source": [
    "average_ndcg_scores = []\n",
    "\n",
    "# Чтобы лишний раз не считать оценку для конкретной песни, сразу выдадим им очки. Таким образом повышаем эффективность кода\n",
    "top20_indices = {song: 20 - index for index, song in enumerate(top20_songs)}\n",
    "\n",
    "for user_id in tqdm(df_train['user_id'].unique()):\n",
    "    user_df = df_train[df_train['user_id'] == user_id]\n",
    "\n",
    "    user_items = user_df['item_id'].tolist()\n",
    "    true_relevance = user_df['target'].tolist()\n",
    "    if len(true_relevance) > 1:\n",
    "        # Оценки на основе позиций в ТОП20\n",
    "        scores = np.zeros(len(user_items))\n",
    "        for i, item in enumerate(user_items):\n",
    "            scores[i] = top20_indices.get(item, 0)\n",
    "\n",
    "        if np.sum(scores) > 0:  # Проверяем, есть ли среди оценок ненулевые значения\n",
    "            ndcg_value = ndcg_score([true_relevance], [scores], k=20)\n",
    "            average_ndcg_scores.append(ndcg_value)\n",
    "\n",
    "average_ndcg = np.mean(average_ndcg_scores) if average_ndcg_scores else 0\n",
    "print('Средний NDCG@20:', average_ndcg)"
   ]
  },
  {
   "cell_type": "code",
   "execution_count": null,
   "metadata": {},
   "outputs": [],
   "source": [
    "#Средний NDCG@20: 0.6236679828362506"
   ]
  }
 ],
 "metadata": {
  "kernelspec": {
   "display_name": ".venv",
   "language": "python",
   "name": "python3"
  },
  "language_info": {
   "codemirror_mode": {
    "name": "ipython",
    "version": 3
   },
   "file_extension": ".py",
   "mimetype": "text/x-python",
   "name": "python",
   "nbconvert_exporter": "python",
   "pygments_lexer": "ipython3",
   "version": "3.12.2"
  }
 },
 "nbformat": 4,
 "nbformat_minor": 2
}
