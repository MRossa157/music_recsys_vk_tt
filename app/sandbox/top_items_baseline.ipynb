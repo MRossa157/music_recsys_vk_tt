{
 "cells": [
  {
   "cell_type": "code",
   "execution_count": 37,
   "metadata": {},
   "outputs": [],
   "source": [
    "import pandas as pd\n",
    "from pandas import DataFrame\n",
    "import numpy as np\n",
    "from tqdm import tqdm\n",
    "\n",
    "from sklearn.metrics import ndcg_score"
   ]
  },
  {
   "cell_type": "code",
   "execution_count": 38,
   "metadata": {},
   "outputs": [],
   "source": [
    "import sys\n",
    "sys.path.append('../src')\n",
    "\n",
    "import config as cfg"
   ]
  },
  {
   "cell_type": "code",
   "execution_count": 39,
   "metadata": {},
   "outputs": [],
   "source": [
    "df_train = pd.read_csv(f'{cfg.DATASET_PATH}\\\\train.csv')\n",
    "df_test = pd.read_csv(f'{cfg.DATASET_PATH}\\\\test.csv')\n",
    "\n",
    "df_songs = pd.read_csv(f'{cfg.DATASET_PATH}\\\\songs.csv')\n",
    "df_members = pd.read_csv(f'{cfg.DATASET_PATH}\\\\members.csv')"
   ]
  },
  {
   "cell_type": "code",
   "execution_count": 40,
   "metadata": {},
   "outputs": [],
   "source": [
    "def calculate_top_musics(df: DataFrame) -> dict:\n",
    "    music_metric = df.groupby('song_id').size().sort_values(ascending=False)\n",
    "    music_top = music_metric.to_dict()\n",
    "    return music_top"
   ]
  },
  {
   "cell_type": "code",
   "execution_count": 41,
   "metadata": {},
   "outputs": [],
   "source": [
    "top = calculate_top_musics(df_train)\n",
    "top20_songs =[idx for idx, _ in top.items()][:20]"
   ]
  },
  {
   "cell_type": "code",
   "execution_count": 42,
   "metadata": {},
   "outputs": [],
   "source": [
    "y_trues = []\n",
    "y_scores = []\n",
    "\n",
    "user_songs_dict = df_test.groupby('msno')['song_id'].agg(set).to_dict()\n",
    "\n",
    "for user, songs in user_songs_dict.items():\n",
    "    y_true = [1 if song in songs else 0 for song in top20_songs]\n",
    "    y_trues.append(y_true)\n",
    "    y_scores.append(list(range(20, 0, -1)))\n",
    "\n",
    "y_trues = np.array(y_trues)\n",
    "y_scores = np.array(y_scores)"
   ]
  },
  {
   "cell_type": "code",
   "execution_count": 43,
   "metadata": {},
   "outputs": [
    {
     "data": {
      "text/plain": [
       "0.23391761898915758"
      ]
     },
     "execution_count": 43,
     "metadata": {},
     "output_type": "execute_result"
    }
   ],
   "source": [
    "ndcg = ndcg_score(y_trues, y_scores, k=20)\n",
    "ndcg"
   ]
  }
 ],
 "metadata": {
  "kernelspec": {
   "display_name": ".venv",
   "language": "python",
   "name": "python3"
  },
  "language_info": {
   "codemirror_mode": {
    "name": "ipython",
    "version": 3
   },
   "file_extension": ".py",
   "mimetype": "text/x-python",
   "name": "python",
   "nbconvert_exporter": "python",
   "pygments_lexer": "ipython3",
   "version": "3.12.2"
  }
 },
 "nbformat": 4,
 "nbformat_minor": 2
}
