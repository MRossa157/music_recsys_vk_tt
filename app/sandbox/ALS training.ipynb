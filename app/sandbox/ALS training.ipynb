{
 "cells": [
  {
   "cell_type": "code",
   "execution_count": 1,
   "metadata": {},
   "outputs": [
    {
     "name": "stderr",
     "output_type": "stream",
     "text": [
      "d:\\Рабочий стол\\Progs2\\Not done\\!music_recsys_vk_tt\\.venv\\Lib\\site-packages\\tqdm\\auto.py:21: TqdmWarning: IProgress not found. Please update jupyter and ipywidgets. See https://ipywidgets.readthedocs.io/en/stable/user_install.html\n",
      "  from .autonotebook import tqdm as notebook_tqdm\n"
     ]
    }
   ],
   "source": [
    "import pandas as pd\n",
    "from pandas import DataFrame\n",
    "import numpy as np\n",
    "\n",
    "import implicit\n",
    "from implicit.evaluation import ndcg_at_k\n",
    "from scipy.sparse import coo_matrix\n"
   ]
  },
  {
   "cell_type": "code",
   "execution_count": 2,
   "metadata": {},
   "outputs": [],
   "source": [
    "import sys\n",
    "sys.path.append('../src')\n",
    "\n",
    "import config as cfg"
   ]
  },
  {
   "cell_type": "markdown",
   "metadata": {},
   "source": [
    "# Считываем данные"
   ]
  },
  {
   "cell_type": "code",
   "execution_count": 3,
   "metadata": {},
   "outputs": [],
   "source": [
    "# %%time\n",
    "\n",
    "df_train = pd.read_csv(f'{cfg.DATASET_PATH}\\\\train.csv')\n",
    "df_test = pd.read_csv(f'{cfg.DATASET_PATH}\\\\test.csv')\n",
    "\n",
    "df_songs = pd.read_csv(f'{cfg.DATASET_PATH}\\\\songs.csv')\n",
    "df_members = pd.read_csv(f'{cfg.DATASET_PATH}\\\\members.csv')"
   ]
  },
  {
   "cell_type": "code",
   "execution_count": 4,
   "metadata": {},
   "outputs": [],
   "source": [
    "ALL_USERS = df_members['msno'].unique().tolist()\n",
    "ALL_ITEMS = df_songs['song_id'].unique().tolist()\n",
    "\n",
    "missing_songs_train = set(df_train['song_id'].unique()) - set(ALL_ITEMS)\n",
    "ALL_ITEMS.extend(missing_songs_train)\n",
    "\n",
    "missing_songs_test = set(df_test['song_id'].unique()) - set(ALL_ITEMS)\n",
    "ALL_ITEMS.extend(missing_songs_test)\n",
    "\n",
    "user_ids = dict(list(enumerate(ALL_USERS)))\n",
    "item_ids = dict(list(enumerate(ALL_ITEMS)))\n",
    "\n",
    "user_map = {u: uidx for uidx, u in user_ids.items()}\n",
    "item_map = {i: iidx for iidx, i in item_ids.items()}\n",
    "\n",
    "df_train['user_id'] = df_train['msno'].map(user_map)\n",
    "df_train['item_id'] = df_train['song_id'].map(item_map)"
   ]
  },
  {
   "cell_type": "code",
   "execution_count": 5,
   "metadata": {},
   "outputs": [],
   "source": [
    "del df_songs, df_members"
   ]
  },
  {
   "cell_type": "markdown",
   "metadata": {},
   "source": [
    "# Создадим coo_matrix (user x item) и csr matrix (user x item)"
   ]
  },
  {
   "cell_type": "code",
   "execution_count": 6,
   "metadata": {},
   "outputs": [
    {
     "data": {
      "text/plain": [
       "<34403x2296378 sparse matrix of type '<class 'numpy.float64'>'\n",
       "\twith 7377418 stored elements in COOrdinate format>"
      ]
     },
     "execution_count": 6,
     "metadata": {},
     "output_type": "execute_result"
    }
   ],
   "source": [
    "row = df_train['user_id'].values\n",
    "col = df_train['item_id'].values\n",
    "data = np.ones(df_train.shape[0])\n",
    "coo_train = coo_matrix((data, (row, col)), shape=(len(ALL_USERS), len(ALL_ITEMS)))\n",
    "coo_train"
   ]
  },
  {
   "cell_type": "markdown",
   "metadata": {},
   "source": [
    "## Проверим работает ли ALS на этих значениях"
   ]
  },
  {
   "cell_type": "code",
   "execution_count": 7,
   "metadata": {},
   "outputs": [
    {
     "name": "stderr",
     "output_type": "stream",
     "text": [
      "d:\\Рабочий стол\\Progs2\\Not done\\!music_recsys_vk_tt\\.venv\\Lib\\site-packages\\implicit\\cpu\\als.py:95: RuntimeWarning: OpenBLAS is configured to use 6 threads. It is highly recommended to disable its internal threadpool by setting the environment variable 'OPENBLAS_NUM_THREADS=1' or by calling 'threadpoolctl.threadpool_limits(1, \"blas\")'. Having OpenBLAS use a threadpool can lead to severe performance issues here.\n",
      "  check_blas_config()\n",
      "d:\\Рабочий стол\\Progs2\\Not done\\!music_recsys_vk_tt\\.venv\\Lib\\site-packages\\implicit\\utils.py:164: ParameterWarning: Method expects CSR input, and was passed coo_matrix instead. Converting to CSR took 0.30402708053588867 seconds\n",
      "  warnings.warn(\n",
      "100%|██████████| 2/2 [00:01<00:00,  1.46it/s]\n"
     ]
    }
   ],
   "source": [
    "model = implicit.als.AlternatingLeastSquares(factors=10, iterations=2)\n",
    "model.fit(coo_train)"
   ]
  },
  {
   "cell_type": "markdown",
   "metadata": {},
   "source": [
    "# Валидация"
   ]
  },
  {
   "cell_type": "code",
   "execution_count": 8,
   "metadata": {},
   "outputs": [],
   "source": [
    "def to_user_item_coo(df: DataFrame):\n",
    "    \"\"\" Turn a dataframe with transactions into a COO sparse items x users matrix\"\"\"\n",
    "    df['user_id'] = df['msno'].map(user_map)\n",
    "    df['item_id'] = df['song_id'].map(item_map)\n",
    "\n",
    "    row = df['user_id'].values\n",
    "    col = df['item_id'].values\n",
    "    data = np.ones(df.shape[0])\n",
    "    coo = coo_matrix((data, (row, col)), shape=(len(ALL_USERS), len(ALL_ITEMS)))\n",
    "    return coo\n",
    "\n",
    "def slice_data(df_train, df_test, slice=10**6):\n",
    "    df_train = df_train[:slice]\n",
    "    df_test = df_test[:slice]\n",
    "    return df_train, df_test\n",
    "\n",
    "def get_val_matricies(df_train: DataFrame, df_test: DataFrame, slice=10**6):\n",
    "    \"\"\"\n",
    "    Returns a dictionary with the following keys:\n",
    "            csr_train: training data in CSR sparse format and as (users x items)\n",
    "            csr_val:  validation data in CSR sparse format and as (users x items)\n",
    "    \"\"\"\n",
    "    df_train, df_test = slice_data(df_train, df_test, slice=slice)\n",
    "\n",
    "    coo_train = to_user_item_coo(df_train)\n",
    "    coo_test = to_user_item_coo(df_test)\n",
    "\n",
    "    csr_train = coo_train.tocsr()\n",
    "    csr_test = coo_test.tocsr()\n",
    "\n",
    "    return {'csr_train': csr_train,\n",
    "            'csr_test': csr_test\n",
    "          }\n",
    "\n",
    "def validate(matrices: dict, factors=200, iterations=20, regularization=0.01, show_progress=True):\n",
    "    \"\"\" Train an ALS model with <<factors>> (embeddings dimension)\n",
    "    for <<iterations>> over matrices and validate with NDCG@20\n",
    "    \"\"\"\n",
    "    csr_train, csr_test = matrices['csr_train'], matrices['csr_test']\n",
    "\n",
    "    model = implicit.als.AlternatingLeastSquares(factors=factors,\n",
    "                                                 iterations=iterations,\n",
    "                                                 regularization=regularization)\n",
    "    model.fit(csr_train, show_progress=show_progress)\n",
    "\n",
    "    # The MAPK by implicit doesn't allow to calculate allowing repeated items, which is the case.\n",
    "    ndcg20 = ndcg_at_k(model, csr_train, csr_test, K=20, show_progress=show_progress, num_threads=0)\n",
    "    print(f\"Factors: {factors:>3} - Iterations: {iterations:>2} - Regularization: {regularization:4.3f} ==> NDCG@20: {ndcg20:6.5f}\")\n",
    "    return ndcg20"
   ]
  },
  {
   "cell_type": "code",
   "execution_count": 9,
   "metadata": {},
   "outputs": [
    {
     "name": "stderr",
     "output_type": "stream",
     "text": [
      "C:\\Users\\maxim\\AppData\\Local\\Temp\\ipykernel_15600\\1800288937.py:3: SettingWithCopyWarning: \n",
      "A value is trying to be set on a copy of a slice from a DataFrame.\n",
      "Try using .loc[row_indexer,col_indexer] = value instead\n",
      "\n",
      "See the caveats in the documentation: https://pandas.pydata.org/pandas-docs/stable/user_guide/indexing.html#returning-a-view-versus-a-copy\n",
      "  df['user_id'] = df['msno'].map(user_map)\n",
      "C:\\Users\\maxim\\AppData\\Local\\Temp\\ipykernel_15600\\1800288937.py:4: SettingWithCopyWarning: \n",
      "A value is trying to be set on a copy of a slice from a DataFrame.\n",
      "Try using .loc[row_indexer,col_indexer] = value instead\n",
      "\n",
      "See the caveats in the documentation: https://pandas.pydata.org/pandas-docs/stable/user_guide/indexing.html#returning-a-view-versus-a-copy\n",
      "  df['item_id'] = df['song_id'].map(item_map)\n",
      "C:\\Users\\maxim\\AppData\\Local\\Temp\\ipykernel_15600\\1800288937.py:3: SettingWithCopyWarning: \n",
      "A value is trying to be set on a copy of a slice from a DataFrame.\n",
      "Try using .loc[row_indexer,col_indexer] = value instead\n",
      "\n",
      "See the caveats in the documentation: https://pandas.pydata.org/pandas-docs/stable/user_guide/indexing.html#returning-a-view-versus-a-copy\n",
      "  df['user_id'] = df['msno'].map(user_map)\n",
      "C:\\Users\\maxim\\AppData\\Local\\Temp\\ipykernel_15600\\1800288937.py:4: SettingWithCopyWarning: \n",
      "A value is trying to be set on a copy of a slice from a DataFrame.\n",
      "Try using .loc[row_indexer,col_indexer] = value instead\n",
      "\n",
      "See the caveats in the documentation: https://pandas.pydata.org/pandas-docs/stable/user_guide/indexing.html#returning-a-view-versus-a-copy\n",
      "  df['item_id'] = df['song_id'].map(item_map)\n"
     ]
    }
   ],
   "source": [
    "matrices = get_val_matricies(df_train, df_test)"
   ]
  },
  {
   "cell_type": "code",
   "execution_count": 10,
   "metadata": {},
   "outputs": [],
   "source": [
    "# Grid search\n",
    "\n",
    "# best_ndcg20 = 0\n",
    "# for factors in [40, 50, 60, 100, 200, 500, 1000]:\n",
    "#     for iterations in [3, 12, 14, 15, 20]:\n",
    "#         for regularization in [0.0, 0.1, 0.01, 0.001]:\n",
    "#             ndcg20 = validate(matrices, factors, iterations, regularization, show_progress=True)\n",
    "#             if ndcg20 > best_ndcg20:\n",
    "#                 best_ndcg20 = ndcg20\n",
    "#                 best_params = {'factors': factors, 'iterations': iterations, 'regularization': regularization}\n",
    "#                 print(f\"Best NDCG@20 found. Updating: {best_params}\")\n",
    "\n",
    "best_params = {'factors': 40, 'iterations': 3, 'regularization': 0.01}"
   ]
  },
  {
   "cell_type": "code",
   "execution_count": 11,
   "metadata": {},
   "outputs": [],
   "source": [
    "del matrices"
   ]
  },
  {
   "cell_type": "markdown",
   "metadata": {},
   "source": [
    "# Обучение на всём датасете"
   ]
  },
  {
   "cell_type": "code",
   "execution_count": 12,
   "metadata": {},
   "outputs": [],
   "source": [
    "coo_train = to_user_item_coo(df_train)\n",
    "csr_train = coo_train.tocsr()"
   ]
  },
  {
   "cell_type": "code",
   "execution_count": 13,
   "metadata": {},
   "outputs": [],
   "source": [
    "def train(coo_train, factors=200, iterations=15, regularization=0.01, show_progress=True):\n",
    "    model = implicit.als.AlternatingLeastSquares(factors=factors,\n",
    "                                                 iterations=iterations,\n",
    "                                                 regularization=regularization)\n",
    "    model.fit(coo_train, show_progress=show_progress)\n",
    "    return model"
   ]
  },
  {
   "cell_type": "code",
   "execution_count": 14,
   "metadata": {},
   "outputs": [
    {
     "data": {
      "text/plain": [
       "{'factors': 40, 'iterations': 3, 'regularization': 0.01}"
      ]
     },
     "execution_count": 14,
     "metadata": {},
     "output_type": "execute_result"
    }
   ],
   "source": [
    "best_params"
   ]
  },
  {
   "cell_type": "code",
   "execution_count": 15,
   "metadata": {},
   "outputs": [
    {
     "name": "stderr",
     "output_type": "stream",
     "text": [
      "100%|██████████| 3/3 [00:02<00:00,  1.03it/s]\n"
     ]
    }
   ],
   "source": [
    "model = train(csr_train, **best_params)"
   ]
  },
  {
   "cell_type": "markdown",
   "metadata": {},
   "source": [
    "# Оценка обучения"
   ]
  },
  {
   "cell_type": "code",
   "execution_count": 16,
   "metadata": {},
   "outputs": [],
   "source": [
    "coo_test = to_user_item_coo(df_test)\n",
    "csr_test = coo_test.tocsr()"
   ]
  },
  {
   "cell_type": "code",
   "execution_count": 17,
   "metadata": {},
   "outputs": [
    {
     "name": "stderr",
     "output_type": "stream",
     "text": [
      "100%|██████████| 25131/25131 [01:30<00:00, 277.01it/s]\n"
     ]
    },
    {
     "data": {
      "text/plain": [
       "0.11086081503371653"
      ]
     },
     "execution_count": 17,
     "metadata": {},
     "output_type": "execute_result"
    }
   ],
   "source": [
    "ndcg20 = ndcg_at_k(model, csr_train, csr_test, K=20, show_progress=True, num_threads=0)\n",
    "ndcg20\n",
    "# 0.11044308262909103"
   ]
  },
  {
   "cell_type": "code",
   "execution_count": 18,
   "metadata": {},
   "outputs": [],
   "source": [
    "import os\n",
    "if not os.path.exists('weights'):\n",
    "    os.makedirs('weights')\n",
    "\n",
    "model.save(r'weights/als.npz')"
   ]
  },
  {
   "cell_type": "markdown",
   "metadata": {},
   "source": [
    "При использовании алгоритма ALS (AlternatingLeastSquares | Collaborative Filtering) NDCG@20 оказался ниже чем простая рекомендация на основе ТОП20 музыкальных треков"
   ]
  }
 ],
 "metadata": {
  "kernelspec": {
   "display_name": ".venv",
   "language": "python",
   "name": "python3"
  },
  "language_info": {
   "codemirror_mode": {
    "name": "ipython",
    "version": 3
   },
   "file_extension": ".py",
   "mimetype": "text/x-python",
   "name": "python",
   "nbconvert_exporter": "python",
   "pygments_lexer": "ipython3",
   "version": "3.12.2"
  }
 },
 "nbformat": 4,
 "nbformat_minor": 2
}
